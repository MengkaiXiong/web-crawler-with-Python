{
 "cells": [
  {
   "cell_type": "code",
   "execution_count": 50,
   "metadata": {},
   "outputs": [],
   "source": [
    "from bs4 import BeautifulSoup\n",
    "import requests\n",
    "from lxml import html\n",
    "from urllib.request import Request, urlopen\n",
    "import urllib.request\n",
    "from selenium import webdriver\n"
   ]
  },
  {
   "cell_type": "code",
   "execution_count": 51,
   "metadata": {},
   "outputs": [],
   "source": [
    "url = \"https://www.ubereats.com/en-US/stores/\""
   ]
  },
  {
   "cell_type": "code",
   "execution_count": 52,
   "metadata": {},
   "outputs": [],
   "source": [
    "#Selenium Part\n",
    "from selenium import webdriver\n",
    "\n",
    "browser = webdriver.Chrome(executable_path=\"/Users/zishuoli/Documents/projects/webscraping/chromedriver\")\n",
    "browser.get(url)\n",
    "innerHTML = browser.execute_script(\"return document.body.innerHTML\")"
   ]
  },
  {
   "cell_type": "markdown",
   "metadata": {},
   "source": [
    "address = browser.find_element_by_id(\"address-selection-input\")\n",
    "\n",
    "address.send_keys(\"255 Massachusetts Avenue\")\n",
    "\n",
    "parent = browser.find_element_by_css_selector(\".ue-ad\")\n",
    "\n",
    "button = parent.find_element_by_tag_name(\"button\")\n",
    "\n",
    "button.click()\n",
    "\n",
    "select_address = browser.find_element_by_css_selector(\".ue-is.ue-a1.ue-dw\")\n",
    "select_address.click()"
   ]
  },
  {
   "cell_type": "code",
   "execution_count": null,
   "metadata": {},
   "outputs": [],
   "source": []
  },
  {
   "cell_type": "code",
   "execution_count": null,
   "metadata": {},
   "outputs": [],
   "source": []
  }
 ],
 "metadata": {
  "kernelspec": {
   "display_name": "Python 3",
   "language": "python",
   "name": "python3"
  },
  "language_info": {
   "codemirror_mode": {
    "name": "ipython",
    "version": 3
   },
   "file_extension": ".py",
   "mimetype": "text/x-python",
   "name": "python",
   "nbconvert_exporter": "python",
   "pygments_lexer": "ipython3",
   "version": "3.7.0"
  }
 },
 "nbformat": 4,
 "nbformat_minor": 2
}
