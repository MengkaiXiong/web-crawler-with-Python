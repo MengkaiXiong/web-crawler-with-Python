{
 "cells": [
  {
   "cell_type": "code",
   "execution_count": 1,
   "metadata": {},
   "outputs": [],
   "source": [
    "from bs4 import BeautifulSoup\n",
    "import requests\n",
    "from lxml import html\n",
    "from urllib.request import Request, urlopen\n",
    "import urllib.request\n",
    "from selenium import webdriver\n",
    "import os"
   ]
  },
  {
   "cell_type": "code",
   "execution_count": 2,
   "metadata": {},
   "outputs": [],
   "source": [
    "url = \"https://www.instagram.com\"\n",
    "\n",
    "\n",
    "options = webdriver.ChromeOptions()\n",
    "options.add_argument('--headless')\n",
    "\n",
    "# browser = webdriver.Chrome(executable_path=\"/Users/zili/Documents/projects/webscraping/chromedriver\",options=options)\n",
    "browser = webdriver.Chrome(executable_path=\"/Users/zili/Documents/projects/webscraping/chromedriver\")\n",
    "\n",
    "browser.get(url)\n",
    "innerHTML = browser.page_source #returns the inner HTML as a string\n",
    "\n",
    "soup = BeautifulSoup(innerHTML,'lxml')"
   ]
  },
  {
   "cell_type": "markdown",
   "metadata": {},
   "source": [
    "# Find login button"
   ]
  },
  {
   "cell_type": "code",
   "execution_count": 3,
   "metadata": {},
   "outputs": [
    {
     "data": {
      "text/plain": [
       "[<p class=\"izU2O\">Have an account? <a href=\"/accounts/login/?source=auth_switcher\">Log in</a></p>]"
      ]
     },
     "execution_count": 3,
     "metadata": {},
     "output_type": "execute_result"
    }
   ],
   "source": [
    "soup.select(\".izU2O\")"
   ]
  },
  {
   "cell_type": "code",
   "execution_count": 5,
   "metadata": {},
   "outputs": [
    {
     "data": {
      "text/plain": [
       "'/accounts/login/?source=auth_switcher'"
      ]
     },
     "execution_count": 5,
     "metadata": {},
     "output_type": "execute_result"
    }
   ],
   "source": [
    "loginUrl = soup.select(\".izU2O\")[0].find('a').attrs.get('href')\n",
    "loginUrl"
   ]
  },
  {
   "cell_type": "code",
   "execution_count": 6,
   "metadata": {},
   "outputs": [
    {
     "data": {
      "text/plain": [
       "'https://www.instagram.com/accounts/login/?source=auth_switcher'"
      ]
     },
     "execution_count": 6,
     "metadata": {},
     "output_type": "execute_result"
    }
   ],
   "source": [
    "url + loginUrl"
   ]
  },
  {
   "cell_type": "code",
   "execution_count": 3,
   "metadata": {},
   "outputs": [],
   "source": [
    "loginP = browser.find_element_by_css_selector('.izU2O')"
   ]
  },
  {
   "cell_type": "code",
   "execution_count": 4,
   "metadata": {},
   "outputs": [],
   "source": [
    "loginP.find_element_by_tag_name('a').click()"
   ]
  },
  {
   "cell_type": "code",
   "execution_count": 5,
   "metadata": {},
   "outputs": [],
   "source": [
    "username = browser.find_element_by_name(\"username\")\n",
    "password = browser.find_element_by_name(\"password\")"
   ]
  },
  {
   "cell_type": "code",
   "execution_count": 6,
   "metadata": {},
   "outputs": [],
   "source": [
    "username.send_keys(\"lizishuo19940328@gmail.com\")\n",
    "password.send_keys(\"***\")"
   ]
  },
  {
   "cell_type": "code",
   "execution_count": 73,
   "metadata": {},
   "outputs": [],
   "source": [
    "loginButton = browser.find_elements_by_tag_name('button')"
   ]
  },
  {
   "cell_type": "code",
   "execution_count": 74,
   "metadata": {},
   "outputs": [
    {
     "data": {
      "text/plain": [
       "3"
      ]
     },
     "execution_count": 74,
     "metadata": {},
     "output_type": "execute_result"
    }
   ],
   "source": [
    "len(loginButton)"
   ]
  },
  {
   "cell_type": "code",
   "execution_count": 7,
   "metadata": {},
   "outputs": [],
   "source": [
    "browser.find_element_by_xpath('//button[text()=\"Log in\"]').click()\n"
   ]
  },
  {
   "cell_type": "code",
   "execution_count": 8,
   "metadata": {},
   "outputs": [],
   "source": [
    "try:\n",
    "    browser.find_element_by_xpath('//button[text()=\"Not Now\"]').click()\n",
    "except:\n",
    "    pass"
   ]
  },
  {
   "cell_type": "code",
   "execution_count": 9,
   "metadata": {},
   "outputs": [],
   "source": [
    "innerHtml = browser.page_source"
   ]
  },
  {
   "cell_type": "code",
   "execution_count": 10,
   "metadata": {},
   "outputs": [],
   "source": [
    "soup = BeautifulSoup(innerHtml,'lxml')"
   ]
  },
  {
   "cell_type": "code",
   "execution_count": 11,
   "metadata": {},
   "outputs": [
    {
     "data": {
      "text/plain": [
       "[<div class=\"C4VMK\"><h2 class=\"_6lAjh\"><a class=\"FPmhX notranslate TlrDj\" href=\"/zlibrs/\" title=\"zlibrs\">zlibrs</a></h2><span><span>不动如山的Aaron</span><button class=\"sXUSN _0mzm- sqdOP yWX7d \" type=\"button\"> more</button></span></div>,\n",
       " <div class=\"C4VMK\"><h3 class=\"_6lAjh\"><a class=\"FPmhX notranslate TlrDj\" href=\"/caseyliukx/\" title=\"caseyliukx\">caseyliukx</a></h3><span><span>我们Tomato最后躺下就很萌呀</span></span></div>,\n",
       " <div class=\"C4VMK\"><h3 class=\"_6lAjh\"><a class=\"FPmhX notranslate TlrDj\" href=\"/aimoo_lv/\" title=\"aimoo_lv\">aimoo_lv</a></h3><span><span>阔爱</span></span></div>,\n",
       " <div class=\"C4VMK\"><h3 class=\"_6lAjh\"><a class=\"FPmhX notranslate TlrDj\" href=\"/zlibrs/\" title=\"zlibrs\">zlibrs</a></h3><span><span><a class=\"notranslate\" href=\"/aimoo_lv/\">@aimoo_lv</a> 你家小猫也好可爱</span></span></div>,\n",
       " <div class=\"C4VMK\"><h3 class=\"_6lAjh\"><a class=\"FPmhX notranslate TlrDj\" href=\"/zlibrs/\" title=\"zlibrs\">zlibrs</a></h3><span><span><a class=\"notranslate\" href=\"/caseyliukx/\">@caseyliukx</a> 对对对 tomato就是很凶</span></span></div>]"
      ]
     },
     "execution_count": 11,
     "metadata": {},
     "output_type": "execute_result"
    }
   ],
   "source": [
    "soup.select(\".C4VMK\")"
   ]
  },
  {
   "cell_type": "code",
   "execution_count": null,
   "metadata": {},
   "outputs": [],
   "source": []
  }
 ],
 "metadata": {
  "kernelspec": {
   "display_name": "Python 3",
   "language": "python",
   "name": "python3"
  },
  "language_info": {
   "codemirror_mode": {
    "name": "ipython",
    "version": 3
   },
   "file_extension": ".py",
   "mimetype": "text/x-python",
   "name": "python",
   "nbconvert_exporter": "python",
   "pygments_lexer": "ipython3",
   "version": "3.7.0"
  }
 },
 "nbformat": 4,
 "nbformat_minor": 2
}
